{
 "cells": [
  {
   "cell_type": "markdown",
   "metadata": {},
   "source": [
    "# Reposheet\n",
    "\n",
    "This little tool will report high-level stats about code repositories on GitHub, ideally with your own API token entered below (within some limits it should even work without a token). You can create your own [GitHub API access token](https://github.com/settings/tokens) if you don't have one, yet. Note that, even with a token certain [rate limit rules](https://docs.github.com/en/free-pro-team@latest/rest/overview/resources-in-the-rest-api#rate-limiting) apply.\n",
    "\n",
    "And before you ask, yes, GitLab support is in the pipeline, too, and no, your tokens are not stored anywhere (check the code!)."
   ]
  },
  {
   "cell_type": "markdown",
   "metadata": {},
   "source": [
    "## Simple usage"
   ]
  },
  {
   "cell_type": "code",
   "execution_count": null,
   "metadata": {},
   "outputs": [],
   "source": [
    "from reposheet import ReposheetUI\n",
    "\n",
    "display(ReposheetUI(\n",
    "    url=\"github.com/jupyterlab\", \n",
    "    # token=\"......\",\n",
    "    # fields=[\"name\", \"created_at\", \"stargazers_count\", \"commit_activity\"], \n",
    "))"
   ]
  },
  {
   "cell_type": "markdown",
   "metadata": {},
   "source": [
    "## Advanced usage"
   ]
  },
  {
   "cell_type": "code",
   "execution_count": null,
   "metadata": {},
   "outputs": [],
   "source": [
    "import datetime\n",
    "from reposheet import ReposheetUI\n",
    "\n",
    "def stale_issues_days(scanner, repo):\n",
    "    \"\"\"Return #days for all uncommented open issues summed over all issues.\n",
    "    \"\"\"\n",
    "    now = datetime.datetime.now()\n",
    "    return dict(\n",
    "        stale_issues_days = sum([\n",
    "            (now - issue.created_at).days \n",
    "                for issue in repo.get_issues()\n",
    "                    if issue.comments == 0 and issue.state == \"open\"\n",
    "        ])\n",
    "    )\n",
    "\n",
    "display(ReposheetUI(\n",
    "    url=\"github.com/jupyterlab\", \n",
    "    # token=\"......\",\n",
    "    # regexpr=\".*\",\n",
    "    fields=[\"name\", \"created_at\", \"commit_activity\", \"issues\"],\n",
    "    callbacks=[stale_issues_days]\n",
    "))"
   ]
  }
 ],
 "metadata": {
  "kernelspec": {
   "display_name": "Python 3",
   "language": "python",
   "name": "python3"
  },
  "language_info": {
   "codemirror_mode": {
    "name": "ipython",
    "version": 3
   },
   "file_extension": ".py",
   "mimetype": "text/x-python",
   "name": "python",
   "nbconvert_exporter": "python",
   "pygments_lexer": "ipython3",
   "version": "3.8.5"
  }
 },
 "nbformat": 4,
 "nbformat_minor": 4
}
